{
  "nbformat": 4,
  "nbformat_minor": 0,
  "metadata": {
    "colab": {
      "provenance": []
    },
    "kernelspec": {
      "name": "python3",
      "display_name": "Python 3"
    },
    "language_info": {
      "name": "python"
    }
  },
  "cells": [
    {
      "cell_type": "code",
      "execution_count": null,
      "metadata": {
        "colab": {
          "base_uri": "https://localhost:8080/"
        },
        "id": "6gXPuPLY5fQY",
        "outputId": "305236e3-1c2c-492c-d364-0a2369384c15"
      },
      "outputs": [
        {
          "output_type": "stream",
          "name": "stdout",
          "text": [
            "Enter the string jsnnnabad\n",
            "Match found\n"
          ]
        }
      ],
      "source": [
        "import re\n",
        "pattern=\"ab*\"\n",
        "user_innput=input(\"Enter the string \")\n",
        "match=re.search(pattern,user_innput)\n",
        "if match:\n",
        "  print(\"Match found\")\n",
        "else:\n",
        "  print(\"Match not found\")\n"
      ]
    },
    {
      "cell_type": "code",
      "source": [
        "import re\n",
        "pattern=\"ab{3}\"\n",
        "user_innput=input(\"Enter the string \")\n",
        "match=re.searchu(pattern,user_innput)\n",
        "if match:\n",
        "  print(\"Match found\")\n",
        "else:\n",
        "  print(\"Match not found\")"
      ],
      "metadata": {
        "colab": {
          "base_uri": "https://localhost:8080/"
        },
        "id": "H0G0p9d-1VnW",
        "outputId": "d680d431-ed27-4bfc-8d4b-23993d7b024e"
      },
      "execution_count": null,
      "outputs": [
        {
          "output_type": "stream",
          "name": "stdout",
          "text": [
            "Enter the string uhdhabbbioii\n",
            "Match found\n"
          ]
        }
      ]
    },
    {
      "cell_type": "code",
      "source": [
        "pattern=\"[A-Z][a-z]+\"\n",
        "user_innput=input(\"Enter the string \")\n",
        "match=re.findall(pattern,user_innput)\n",
        "if match:\n",
        "  print(match)\n",
        "else:\n",
        "  print(match)"
      ],
      "metadata": {
        "colab": {
          "base_uri": "https://localhost:8080/"
        },
        "id": "-ofqHfOz2uQq",
        "outputId": "7d076b43-138f-4d80-853c-2c73fa65121c"
      },
      "execution_count": null,
      "outputs": [
        {
          "output_type": "stream",
          "name": "stdout",
          "text": [
            "Enter the string ExeRciSes On PaTtern MatChing\n",
            "['Exe', 'Rci', 'Ses', 'On', 'Pa', 'Ttern', 'Mat', 'Ching']\n"
          ]
        }
      ]
    },
    {
      "cell_type": "code",
      "source": [
        "import re\n",
        "\n",
        "pattern = r\"\\b[^z]\\w*z\\w*[^z]\\b\"\n",
        "text = \"aaninzhh\"\n",
        "match = re.findall(pattern, text)\n",
        "if match:\n",
        "  print(match)\n",
        "else:\n",
        "  print(match)"
      ],
      "metadata": {
        "colab": {
          "base_uri": "https://localhost:8080/"
        },
        "id": "paDZcqN_4-Og",
        "outputId": "1d9b40c0-2009-4254-9d55-8705793d711d"
      },
      "execution_count": null,
      "outputs": [
        {
          "output_type": "stream",
          "name": "stdout",
          "text": [
            "['aaninzhh']\n"
          ]
        }
      ]
    },
    {
      "cell_type": "code",
      "source": [
        "import re\n",
        "pattern=r\"[!@#$%^&*]\"\n",
        "user_innput=input(\"Enter the string \")\n",
        "match=re.findall(pattern,user_innput)\n",
        "if match:\n",
        "  print(\"have special character\")\n",
        "else:\n",
        "  print(\"No special characters\")"
      ],
      "metadata": {
        "colab": {
          "base_uri": "https://localhost:8080/"
        },
        "id": "sD4QpY8-WbDs",
        "outputId": "61cfbdfa-029c-4429-d95a-4a4066182bfc"
      },
      "execution_count": null,
      "outputs": [
        {
          "output_type": "stream",
          "name": "stdout",
          "text": [
            "Enter the string niig&\n",
            "have special character\n"
          ]
        }
      ]
    },
    {
      "cell_type": "code",
      "source": [
        "import re\n",
        "pattern=r'[0-9]\\b'\n",
        "user_innput=input(\"Enter the string \")\n",
        "match=re.search(pattern,user_innput)\n",
        "#print(pattern)\n",
        "if match:\n",
        "  print(\"have number at end\")\n",
        "else:\n",
        "  print(\"No number at end\")"
      ],
      "metadata": {
        "colab": {
          "base_uri": "https://localhost:8080/"
        },
        "id": "Reg03vdqZi6h",
        "outputId": "484a22f1-64e6-4f46-f5d9-eac66c7c798f"
      },
      "execution_count": null,
      "outputs": [
        {
          "output_type": "stream",
          "name": "stdout",
          "text": [
            "Enter the string aijf\n",
            "[0-9]\\b\n",
            "No number at end\n"
          ]
        }
      ]
    },
    {
      "cell_type": "code",
      "source": [
        "import re\n",
        "sub_string=input(\"Enter the sub string \")\n",
        "string=input(\"Enter the string \")\n",
        "match=re.findall(sub_string,string)\n",
        "if match:\n",
        "  print(len(match))\n",
        "else:\n",
        "  print(\"Not Found\")"
      ],
      "metadata": {
        "colab": {
          "base_uri": "https://localhost:8080/"
        },
        "id": "y6W8EtdTp_qc",
        "outputId": "efb88dd1-ed26-4d5a-8552-caa529d09c83"
      },
      "execution_count": null,
      "outputs": [
        {
          "output_type": "stream",
          "name": "stdout",
          "text": [
            "Enter the sub stringand\n",
            "Enter the stringdifianaandijifandjjadnanjid\n",
            "2\n"
          ]
        }
      ]
    },
    {
      "cell_type": "code",
      "source": [
        "import re\n",
        "user_input=input(\"Enter the string \")\n",
        "match=re.findall(r'[^ ]',user_input)\n",
        "ans=\"\"\n",
        "for i in match:\n",
        "  ans+=i\n",
        "print(ans)"
      ],
      "metadata": {
        "colab": {
          "base_uri": "https://localhost:8080/"
        },
        "id": "hikMXZoqsBWd",
        "outputId": "e9612875-baff-47a6-ab2d-e8b5650a1482"
      },
      "execution_count": null,
      "outputs": [
        {
          "output_type": "stream",
          "name": "stdout",
          "text": [
            "Enter the string hello world damm\n",
            "helloworlddamm\n"
          ]
        }
      ]
    },
    {
      "cell_type": "code",
      "source": [
        "#  ---> Grouping of pattern\n",
        "used to capture group made in the pattern due to parenthesis\n",
        "when match is found on such pattern match.groups has all the groups"
      ],
      "metadata": {
        "id": "ILCLDw0Mutsy"
      },
      "execution_count": null,
      "outputs": []
    },
    {
      "cell_type": "code",
      "source": [
        "date=input(\"Enter the date in yyyy-mm-dd format\")\n",
        "myList=date.split('-')\n",
        "myList.reverse()\n",
        "finalDate=\"\"\n",
        "for i in myList:\n",
        "  finalDate+=i+'-'\n",
        "print(finalDate[:-1])"
      ],
      "metadata": {
        "colab": {
          "base_uri": "https://localhost:8080/"
        },
        "id": "Q-AjUzE2uz7_",
        "outputId": "45677876-ec99-48a2-9902-51a68b5f8489"
      },
      "execution_count": null,
      "outputs": [
        {
          "output_type": "stream",
          "name": "stdout",
          "text": [
            "Enter the date in yyyy-mm-dd format2018-02-12\n",
            "12-02-2018\n"
          ]
        }
      ]
    },
    {
      "cell_type": "code",
      "source": [
        "from google.colab import drive\n",
        "drive.mount('/content/drive')"
      ],
      "metadata": {
        "id": "tQDJx_JH0byK"
      },
      "execution_count": null,
      "outputs": []
    },
    {
      "cell_type": "code",
      "source": [
        "# --> read and write file\n",
        "\n",
        "def getLines(fileName):\n",
        "  f=open(f'/{fileName}','r')\n",
        "  count=0\n",
        "  for line in f:\n",
        "    count+=1\n",
        "  return count\n",
        "\n",
        "def getchar(fileName):\n",
        "  f=open(f'/{fileName}','r')\n",
        "  count=0\n",
        "  for line in f:\n",
        "    for char in line:\n",
        "      count+=1\n",
        "  return count\n",
        "\n",
        "def getwords(fileName):\n",
        "  f=open(f'/{fileName}','r')\n",
        "  count=0\n",
        "  for line in f:\n",
        "    words=line.split(\" \")\n",
        "    count+=len(words)\n",
        "  return count\n",
        "\n",
        "fileName=\"check.txt\"\n",
        "print(getLines(fileName))\n",
        "print(getchar(fileName))\n",
        "print(getwords(fileName))\n"
      ],
      "metadata": {
        "colab": {
          "base_uri": "https://localhost:8080/"
        },
        "id": "NEAhFPY3wFnN",
        "outputId": "395eebff-1e5d-470b-ab80-d795593b2c96"
      },
      "execution_count": null,
      "outputs": [
        {
          "output_type": "stream",
          "name": "stdout",
          "text": [
            "3\n",
            "35\n",
            "6\n"
          ]
        }
      ]
    },
    {
      "cell_type": "code",
      "source": [
        "import json\n",
        "import datetime\n",
        "\n",
        "def checkPh(ph):\n",
        "  india='[0-9]{10}'\n",
        "  usa='[0-9]{3}-[0-9]{3}-[0-9]{4}'\n",
        "  if re.findall(india,ph):\n",
        "    return 'India'\n",
        "  elif re.findall(usa,ph):\n",
        "    return 'USA'\n",
        "  else :\n",
        "    return 'Other'\n",
        "\n",
        "def getIndian(users):\n",
        "  indians=[]\n",
        "  for user in users:\n",
        "    if user[3]=='India':\n",
        "      indians.append(user)\n",
        "  return indians\n",
        "\n",
        "def getUSA(users):\n",
        "  usa=[]\n",
        "  for user in users:\n",
        "    if user[3]=='USA':\n",
        "      usa.append(user)\n",
        "  return usa\n",
        "\n",
        "def getOther(users):\n",
        "  others=[]\n",
        "  for user in users:\n",
        "    if user[3]=='Other':\n",
        "      others.append(user)\n",
        "  return others\n",
        "\n",
        "users=[]\n",
        "flag=True\n",
        "while flag:\n",
        "  user_input=input(\"Enter the string \")\n",
        "  if user_input==\"stop\":\n",
        "    flag=False\n",
        "    break\n",
        "  myList=user_input.split(',')\n",
        "  ph=myList[2]\n",
        "  country=checkPh(ph)\n",
        "  timestamp=datetime.datetime.now()\n",
        "  stringified_timestamp = timestamp.strftime('%Y-%m-%d %H:%M:%S')\n",
        "  myList.append(country)\n",
        "  myList.append(stringified_timestamp)\n",
        "  users.append(myList)\n",
        "\n",
        "#print(users)\n",
        "\n",
        "indians=getIndian(users)\n",
        "usa=getUSA(users)\n",
        "others=getOther(users)\n",
        "#print(usa)\n",
        "#print(others)\n",
        "#print(indians)\n",
        "\n",
        "dict={} # area code wise users\n",
        "for x in usa:\n",
        "  num=x[2]\n",
        "  code=num[:4]\n",
        "  if code in dict:\n",
        "    dict[code].append(x)\n",
        "  else:\n",
        "    dict[code]=[x]\n",
        "#print(dict)\n",
        "for x in dict:\n",
        "  if len(dict[x])>1:\n",
        "    print(dict[x])  # usa users with same area code\n",
        "\n",
        "f=open('newData.json','a')\n",
        "#json.dump(indians,f)\n",
        "json.dump(usa,f) # object is stringifed\n",
        "#json.dump(others,f)\n"
      ],
      "metadata": {
        "id": "PMzExlb_6tDp",
        "colab": {
          "base_uri": "https://localhost:8080/"
        },
        "outputId": "fae2ee4a-b23e-4f42-b2d4-393be72a4163"
      },
      "execution_count": 139,
      "outputs": [
        {
          "name": "stdout",
          "output_type": "stream",
          "text": [
            "Enter the string kmgs,smog,785-968-9999\n",
            "Enter the string stop\n"
          ]
        }
      ]
    },
    {
      "cell_type": "code",
      "source": [
        "import re\n",
        "\n",
        "pattern = r\"(\\d+)-(\\w+)\"  # Matches patterns like \"123-abc\"\n",
        "string = \"Hello 123-abc world\"\n",
        "\n",
        "match = re.search(pattern, string)\n",
        "print(match)\n",
        "if match:\n",
        "    groups = match.groups()\n",
        "    print(groups)  # Output: ('123', 'abc')"
      ],
      "metadata": {
        "colab": {
          "base_uri": "https://localhost:8080/"
        },
        "id": "WZIWb4QiAbce",
        "outputId": "cefa7d6d-5486-45f5-e162-7c1380e5e634"
      },
      "execution_count": 138,
      "outputs": [
        {
          "output_type": "stream",
          "name": "stdout",
          "text": [
            "<re.Match object; span=(6, 13), match='123-abc'>\n",
            "('123', 'abc')\n"
          ]
        }
      ]
    },
    {
      "cell_type": "code",
      "source": [
        "x=[1,2,3]\n",
        "y=[4,5,6]\n",
        "z=[x]\n",
        "z.append(y)\n",
        "print(z)"
      ],
      "metadata": {
        "colab": {
          "base_uri": "https://localhost:8080/"
        },
        "id": "5AzLMAFTGXUn",
        "outputId": "33771c9a-e6c3-4119-aa5d-a9ff437318e7"
      },
      "execution_count": null,
      "outputs": [
        {
          "output_type": "stream",
          "name": "stdout",
          "text": [
            "[[1, 2, 3], [4, 5, 6]]\n"
          ]
        }
      ]
    },
    {
      "cell_type": "markdown",
      "source": [
        "# New Section"
      ],
      "metadata": {
        "id": "QwHWjCt64XE1"
      }
    }
  ]
}